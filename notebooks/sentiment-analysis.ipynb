{
 "cells": [
  {
   "cell_type": "markdown",
   "metadata": {},
   "source": [
    "# Un análisis básico de sentimientos."
   ]
  },
  {
   "cell_type": "markdown",
   "metadata": {},
   "source": [
    "El Diccionario de Sentimientos Conscientes para el Razonamiento de Sentimientos (VADER), o simplemente VADER, es un algoritmo de análisis de sentimientos creado por Hutto y Gilbert en GA Tech.\n",
    "Básicamente, se puede interpretar como un léxico de sentimientos de referencia, que proporciona una correlación entre palabras clave y puntuaciones de sentimiento. Según el documento oficial, el algoritmo está especialmente adaptado al contenido de microblogs y redes sociales.\n"
   ]
  },
  {
   "cell_type": "code",
   "execution_count": 14,
   "metadata": {},
   "outputs": [],
   "source": [
    "!pip install nltk > /dev/null"
   ]
  },
  {
   "cell_type": "code",
   "execution_count": 20,
   "metadata": {},
   "outputs": [
    {
     "name": "stderr",
     "output_type": "stream",
     "text": [
      "[nltk_data] Downloading package vader_lexicon to\n",
      "[nltk_data]     /Users/edwin/nltk_data...\n",
      "[nltk_data]   Package vader_lexicon is already up-to-date!\n"
     ]
    },
    {
     "data": {
      "text/plain": [
       "True"
      ]
     },
     "execution_count": 20,
     "metadata": {},
     "output_type": "execute_result"
    }
   ],
   "source": [
    "import nltk\n",
    "from nltk.sentiment.vader import SentimentIntensityAnalyzer\n",
    "nltk.download('vader_lexicon')\n"
   ]
  },
  {
   "cell_type": "code",
   "execution_count": 17,
   "metadata": {},
   "outputs": [
    {
     "data": {
      "text/plain": [
       "{'neg': 0.0, 'neu': 0.437, 'pos': 0.563, 'compound': 0.829}"
      ]
     },
     "execution_count": 17,
     "metadata": {},
     "output_type": "execute_result"
    }
   ],
   "source": [
    "# Hacemos un análisis de sentimiento de una oración\n",
    "sa = SentimentIntensityAnalyzer()\n",
    "sentence = \"Natural Language Processing is so awesome, isn't it?\"\n",
    "sa.polarity_scores(sentence)\n",
    "{'neg': 0.0, 'neu': 0.437, 'pos': 0.563, 'compound': 0.829}\n"
   ]
  },
  {
   "cell_type": "markdown",
   "metadata": {},
   "source": [
    "### Al introducir nuestro ejemplo recurrente en el analizador de sentimientos, obtenemos una puntuación compuesta muy positiva de 0,829, lo cual parece razonable.\n",
    "### Ahora, probemos con el sarcasmo y veamos cómo el algoritmo gestiona el significado subyacente o latente."
   ]
  },
  {
   "cell_type": "code",
   "execution_count": 18,
   "metadata": {},
   "outputs": [
    {
     "data": {
      "text/plain": [
       "{'neg': 0.0, 'neu': 0.566, 'pos': 0.434, 'compound': 0.784}"
      ]
     },
     "execution_count": 18,
     "metadata": {},
     "output_type": "execute_result"
    }
   ],
   "source": [
    "sentence = \"Natural Language Processing is awesome \\\n",
    "            since it doesn't work at all!\"\n",
    "sa.polarity_scores(sentence)\n",
    "{'neg': 0.0, 'neu': 0.566, 'pos': 0.434, 'compound': 0.784}"
   ]
  },
  {
   "cell_type": "code",
   "execution_count": 19,
   "metadata": {},
   "outputs": [
    {
     "data": {
      "text/plain": [
       "{'neg': 0.0, 'neu': 0.566, 'pos': 0.434, 'compound': 0.784}"
      ]
     },
     "execution_count": 19,
     "metadata": {},
     "output_type": "execute_result"
    }
   ],
   "source": [
    "sentence = \"Estoy muy feliz de aprender procesamiento de lenguaje natural\"\n",
    "sa.polarity_scores(sentence)\n",
    "{'neg': 0.0, 'neu': 0.566, 'pos': 0.434, 'compound': 0.784}"
   ]
  },
  {
   "cell_type": "markdown",
   "metadata": {},
   "source": [
    "### Bueno, esto ya no es tan bueno. Como básicamente asignamos palabras individuales a una puntuación asociada, no se tiene en cuenta el contexto ni el significado subyacente. Por lo tanto, el sarcasmo y el cinismo no son el punto fuerte de este algoritmo."
   ]
  }
 ],
 "metadata": {
  "kernelspec": {
   "display_name": "uaip39",
   "language": "python",
   "name": "python3"
  },
  "language_info": {
   "codemirror_mode": {
    "name": "ipython",
    "version": 3
   },
   "file_extension": ".py",
   "mimetype": "text/x-python",
   "name": "python",
   "nbconvert_exporter": "python",
   "pygments_lexer": "ipython3",
   "version": "3.9.15"
  }
 },
 "nbformat": 4,
 "nbformat_minor": 2
}
