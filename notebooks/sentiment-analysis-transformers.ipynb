{
 "cells": [
  {
   "cell_type": "markdown",
   "metadata": {},
   "source": [
    "# multilingual-uncased-sentiment"
   ]
  },
  {
   "cell_type": "markdown",
   "metadata": {},
   "source": [
    "Este modelo, basado en BERT, multilingüe y sin mayúsculas, está optimizado para el análisis de opiniones en reseñas de productos en seis idiomas: inglés, neerlandés, alemán, francés, español e italiano. Predice la opinión de la reseña mediante un número de estrellas (entre 1 y 5).\n",
    "\n",
    "Este modelo está diseñado para su uso directo como modelo de análisis de opiniones en reseñas de productos en cualquiera de los seis idiomas mencionados o para su posterior optimización en tareas relacionadas con el análisis de opiniones.\n",
    "\n"
   ]
  },
  {
   "cell_type": "markdown",
   "metadata": {},
   "source": [
    "### Requerimientos\n",
    "python +3.10"
   ]
  },
  {
   "cell_type": "code",
   "execution_count": 2,
   "metadata": {},
   "outputs": [
    {
     "name": "stdout",
     "output_type": "stream",
     "text": [
      "zsh:1: no matches found: transformers[onnx]\n",
      "Requirement already satisfied: torch in /opt/homebrew/Caskroom/miniforge/base/envs/uai310/lib/python3.10/site-packages (2.6.0)\n",
      "Requirement already satisfied: torchvision in /opt/homebrew/Caskroom/miniforge/base/envs/uai310/lib/python3.10/site-packages (0.21.0)\n",
      "Requirement already satisfied: torchaudio in /opt/homebrew/Caskroom/miniforge/base/envs/uai310/lib/python3.10/site-packages (2.6.0)\n",
      "Requirement already satisfied: filelock in /opt/homebrew/Caskroom/miniforge/base/envs/uai310/lib/python3.10/site-packages (from torch) (3.18.0)\n",
      "Requirement already satisfied: typing-extensions>=4.10.0 in /opt/homebrew/Caskroom/miniforge/base/envs/uai310/lib/python3.10/site-packages (from torch) (4.12.2)\n",
      "Requirement already satisfied: networkx in /opt/homebrew/Caskroom/miniforge/base/envs/uai310/lib/python3.10/site-packages (from torch) (3.4.2)\n",
      "Requirement already satisfied: jinja2 in /opt/homebrew/Caskroom/miniforge/base/envs/uai310/lib/python3.10/site-packages (from torch) (3.1.6)\n",
      "Requirement already satisfied: fsspec in /opt/homebrew/Caskroom/miniforge/base/envs/uai310/lib/python3.10/site-packages (from torch) (2025.3.2)\n",
      "Requirement already satisfied: sympy==1.13.1 in /opt/homebrew/Caskroom/miniforge/base/envs/uai310/lib/python3.10/site-packages (from torch) (1.13.1)\n",
      "Requirement already satisfied: mpmath<1.4,>=1.1.0 in /opt/homebrew/Caskroom/miniforge/base/envs/uai310/lib/python3.10/site-packages (from sympy==1.13.1->torch) (1.3.0)\n",
      "Requirement already satisfied: numpy in /opt/homebrew/Caskroom/miniforge/base/envs/uai310/lib/python3.10/site-packages (from torchvision) (1.26.4)\n",
      "Requirement already satisfied: pillow!=8.3.*,>=5.3.0 in /opt/homebrew/Caskroom/miniforge/base/envs/uai310/lib/python3.10/site-packages (from torchvision) (11.1.0)\n",
      "Requirement already satisfied: MarkupSafe>=2.0 in /opt/homebrew/Caskroom/miniforge/base/envs/uai310/lib/python3.10/site-packages (from jinja2->torch) (3.0.2)\n"
     ]
    }
   ],
   "source": [
    "!pip install transformers >> /dev/null\n",
    "!pip install transformers[onnx] >> /dev/null\n",
    "!pip install tf-keras==2.16 >> /dev/null\n",
    "!pip3 install torch torchvision torchaudio "
   ]
  },
  {
   "cell_type": "code",
   "execution_count": 5,
   "metadata": {},
   "outputs": [],
   "source": [
    "# Importar las bibliotecas necesarias\n",
    "from transformers import pipeline\n"
   ]
  },
  {
   "cell_type": "code",
   "execution_count": 9,
   "metadata": {},
   "outputs": [
    {
     "name": "stderr",
     "output_type": "stream",
     "text": [
      "Device set to use mps:0\n"
     ]
    },
    {
     "name": "stdout",
     "output_type": "stream",
     "text": [
      "{'label': '5 stars', 'score': 0.830426812171936}\n",
      "{'label': '1 star', 'score': 0.9320337176322937}\n",
      "{'label': '3 stars', 'score': 0.5434538722038269}\n",
      "{'label': '5 stars', 'score': 0.8888845443725586}\n",
      "{'label': '1 star', 'score': 0.6736069917678833}\n",
      "{'label': '3 stars', 'score': 0.5201070308685303}\n"
     ]
    }
   ],
   "source": [
    "model_ckpt = \"nlptown/bert-base-multilingual-uncased-sentiment\"\n",
    "model_name = 'sentiment-analysis'\n",
    "# Crear el clasificador de sentimientos\n",
    "classifier = pipeline(model_name, model=model_ckpt)\n",
    "\n",
    "# Probar el clasificador antes de exportarlo\n",
    "sentences = [\n",
    "    \"La película que vimos anoche fue espectacular, ¡la recomiendo totalmente!\", \n",
    "    \"Este restaurante tiene un servicio pésimo, nunca volveré a visitarlo.\", \n",
    "    \"El concierto estuvo regular, algunas canciones me gustaron pero otras fueron aburridas.\",\n",
    "    \"La nueva actualización del software ha mejorado muchísimo la experiencia, ¡estoy encantado!\",\n",
    "    \"Las vacaciones fueron una decepción total, el hotel no se parecía en nada a las fotos.\",\n",
    "    \"El curso online está más o menos interesante; aprendo algunas cosas útiles, pero avanza muy lento.\"\n",
    "]\n",
    "\n",
    "results = classifier(sentences)\n",
    "for result in results:\n",
    "    print(result)\n"
   ]
  },
  {
   "cell_type": "code",
   "execution_count": null,
   "metadata": {},
   "outputs": [
    {
     "name": "stdout",
     "output_type": "stream",
     "text": [
      "['last_hidden_state']\n"
     ]
    }
   ],
   "source": [
    "# Exportamos el modelo usando el metodo recomendado por Hugging Face\n",
    "# https://huggingface.co/docs/transformers/es/serialization\n",
    "from pathlib import Path\n",
    "from transformers.onnx import export\n",
    "from transformers import AutoTokenizer, AutoModel\n",
    "from transformers.models.distilbert import DistilBertConfig, DistilBertOnnxConfig\n",
    "\n",
    "config = DistilBertConfig()\n",
    "onnx_config = DistilBertOnnxConfig(config)\n",
    "print(list(onnx_config.outputs.keys()))\n",
    "\n",
    "onnx_path = Path(f\"../models/{model_name}-trasformer.onnx\")\n",
    "base_model = AutoModel.from_pretrained(model_ckpt)\n",
    "tokenizer = AutoTokenizer.from_pretrained(model_ckpt)\n",
    "\n",
    "onnx_inputs, onnx_outputs = export(tokenizer, base_model, onnx_config, onnx_config.default_onnx_opset, onnx_path)\n"
   ]
  }
 ],
 "metadata": {
  "kernelspec": {
   "display_name": "uai310",
   "language": "python",
   "name": "python3"
  },
  "language_info": {
   "codemirror_mode": {
    "name": "ipython",
    "version": 3
   },
   "file_extension": ".py",
   "mimetype": "text/x-python",
   "name": "python",
   "nbconvert_exporter": "python",
   "pygments_lexer": "ipython3",
   "version": "3.10.16"
  }
 },
 "nbformat": 4,
 "nbformat_minor": 2
}
